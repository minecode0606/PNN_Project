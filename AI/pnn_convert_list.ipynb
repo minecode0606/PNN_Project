{
 "cells": [
  {
   "cell_type": "code",
   "execution_count": 2,
   "id": "initial_id",
   "metadata": {
    "collapsed": true,
    "ExecuteTime": {
     "end_time": "2023-09-23T14:20:29.334387Z",
     "start_time": "2023-09-23T14:18:55.298934Z"
    }
   },
   "outputs": [
    {
     "name": "stdout",
     "output_type": "stream",
     "text": [
      "WARNING:tensorflow:Please fix your imports. Module tensorflow.python.training.tracking.data_structures has been moved to tensorflow.python.trackable.data_structures. The old module will be deleted in version 2.11.\n"
     ]
    },
    {
     "name": "stderr",
     "output_type": "stream",
     "text": [
      "WARNING:absl:At this time, the v2.11+ optimizer `tf.keras.optimizers.Adamax` runs slowly on M1/M2 Macs, please use the legacy Keras optimizer instead, located at `tf.keras.optimizers.legacy.Adamax`.\n",
      "WARNING:absl:There is a known slowdown when using v2.11+ Keras optimizers on M1/M2 Macs. Falling back to the legacy Keras optimizer, i.e., `tf.keras.optimizers.legacy.Adamax`.\n"
     ]
    },
    {
     "name": "stdout",
     "output_type": "stream",
     "text": [
      "WARNING:tensorflow:Error in loading the saved optimizer state. As a result, your model is starting with a freshly initialized optimizer.\n"
     ]
    },
    {
     "name": "stderr",
     "output_type": "stream",
     "text": [
      "WARNING:tensorflow:Error in loading the saved optimizer state. As a result, your model is starting with a freshly initialized optimizer.\n"
     ]
    }
   ],
   "source": [
    "import tensorflow as tf\n",
    "import tensorflow_hub as hub\n",
    "load_model = tf.keras.models.load_model('model.h5',custom_objects={'KerasLayer': hub.KerasLayer})"
   ]
  },
  {
   "cell_type": "code",
   "execution_count": 3,
   "outputs": [
    {
     "name": "stdout",
     "output_type": "stream",
     "text": [
      "Model: \"model_4\"\n",
      "__________________________________________________________________________________________________\n",
      " Layer (type)                   Output Shape         Param #     Connected to                     \n",
      "==================================================================================================\n",
      " input_1 (InputLayer)           [(None, 224, 224, 3  0           []                               \n",
      "                                )]                                                                \n",
      "                                                                                                  \n",
      " conv2d (Conv2D)                (None, 224, 224, 48  1344        ['input_1[0][0]']                \n",
      "                                )                                                                 \n",
      "                                                                                                  \n",
      " global_average_pooling2d (Glob  (None, 48)          0           ['conv2d[0][0]']                 \n",
      " alAveragePooling2D)                                                                              \n",
      "                                                                                                  \n",
      " dense (Dense)                  (None, 20)           980         ['global_average_pooling2d[0][0]'\n",
      "                                                                 ]                                \n",
      "                                                                                                  \n",
      " dense_1 (Dense)                (None, 48)           1008        ['dense[0][0]']                  \n",
      "                                                                                                  \n",
      " tf.reshape (TFOpLambda)        (None, 1, 1, 48)     0           ['dense_1[0][0]']                \n",
      "                                                                                                  \n",
      " tf.math.multiply (TFOpLambda)  (None, 224, 224, 48  0           ['conv2d[0][0]',                 \n",
      "                                )                                 'tf.reshape[0][0]']             \n",
      "                                                                                                  \n",
      " max_pooling2d (MaxPooling2D)   (None, 112, 112, 48  0           ['tf.math.multiply[0][0]']       \n",
      "                                )                                                                 \n",
      "                                                                                                  \n",
      " conv2d_1 (Conv2D)              (None, 112, 112, 96  41568       ['max_pooling2d[0][0]']          \n",
      "                                )                                                                 \n",
      "                                                                                                  \n",
      " global_average_pooling2d_1 (Gl  (None, 96)          0           ['conv2d_1[0][0]']               \n",
      " obalAveragePooling2D)                                                                            \n",
      "                                                                                                  \n",
      " dense_2 (Dense)                (None, 30)           2910        ['global_average_pooling2d_1[0][0\n",
      "                                                                 ]']                              \n",
      "                                                                                                  \n",
      " dense_3 (Dense)                (None, 96)           2976        ['dense_2[0][0]']                \n",
      "                                                                                                  \n",
      " tf.reshape_1 (TFOpLambda)      (None, 1, 1, 96)     0           ['dense_3[0][0]']                \n",
      "                                                                                                  \n",
      " tf.math.multiply_1 (TFOpLambda  (None, 112, 112, 96  0          ['conv2d_1[0][0]',               \n",
      " )                              )                                 'tf.reshape_1[0][0]']           \n",
      "                                                                                                  \n",
      " max_pooling2d_1 (MaxPooling2D)  (None, 56, 56, 96)  0           ['tf.math.multiply_1[0][0]']     \n",
      "                                                                                                  \n",
      " conv2d_2 (Conv2D)              (None, 56, 56, 192)  166080      ['max_pooling2d_1[0][0]']        \n",
      "                                                                                                  \n",
      " global_average_pooling2d_2 (Gl  (None, 192)         0           ['conv2d_2[0][0]']               \n",
      " obalAveragePooling2D)                                                                            \n",
      "                                                                                                  \n",
      " dense_4 (Dense)                (None, 50)           9650        ['global_average_pooling2d_2[0][0\n",
      "                                                                 ]']                              \n",
      "                                                                                                  \n",
      " dense_5 (Dense)                (None, 192)          9792        ['dense_4[0][0]']                \n",
      "                                                                                                  \n",
      " tf.reshape_2 (TFOpLambda)      (None, 1, 1, 192)    0           ['dense_5[0][0]']                \n",
      "                                                                                                  \n",
      " tf.math.multiply_2 (TFOpLambda  (None, 56, 56, 192)  0          ['conv2d_2[0][0]',               \n",
      " )                                                                'tf.reshape_2[0][0]']           \n",
      "                                                                                                  \n",
      " max_pooling2d_2 (MaxPooling2D)  (None, 28, 28, 192)  0          ['tf.math.multiply_2[0][0]']     \n",
      "                                                                                                  \n",
      " conv2d_3 (Conv2D)              (None, 28, 28, 32)   6176        ['max_pooling2d_2[0][0]']        \n",
      "                                                                                                  \n",
      " global_average_pooling2d_4 (Gl  (None, 32)          0           ['conv2d_3[0][0]']               \n",
      " obalAveragePooling2D)                                                                            \n",
      "                                                                                                  \n",
      " dense_9 (Dense)                (None, 12)           396         ['global_average_pooling2d_4[0][0\n",
      "                                                                 ]']                              \n",
      "                                                                                                  \n",
      " dense_10 (Dense)               (None, 32)           416         ['dense_9[0][0]']                \n",
      "                                                                                                  \n",
      " tf.reshape_3 (TFOpLambda)      (None, 1, 1, 32)     0           ['dense_10[0][0]']               \n",
      "                                                                                                  \n",
      " tf.math.multiply_3 (TFOpLambda  (None, 28, 28, 32)  0           ['conv2d_3[0][0]',               \n",
      " )                                                                'tf.reshape_3[0][0]']           \n",
      "                                                                                                  \n",
      " input_3 (InputLayer)           [(None, 224, 224, 3  0           []                               \n",
      "                                )]                                                                \n",
      "                                                                                                  \n",
      " global_average_pooling2d_3 (Gl  (None, 32)          0           ['tf.math.multiply_3[0][0]']     \n",
      " obalAveragePooling2D)                                                                            \n",
      "                                                                                                  \n",
      " keras_layer (KerasLayer)       (None, 1536)         194995476   ['input_3[0][0]']                \n",
      "                                                                                                  \n",
      " batch_normalization_1 (BatchNo  (None, 32)          128         ['global_average_pooling2d_3[0][0\n",
      " rmalization)                                                    ]']                              \n",
      "                                                                                                  \n",
      " batch_normalization (BatchNorm  (None, 1536)        6144        ['keras_layer[0][0]']            \n",
      " alization)                                                                                       \n",
      "                                                                                                  \n",
      " dense_11 (Dense)               (None, 512)          16896       ['batch_normalization_1[0][0]']  \n",
      "                                                                                                  \n",
      " dense_6 (Dense)                (None, 32)           49184       ['batch_normalization[0][0]']    \n",
      "                                                                                                  \n",
      " dense_12 (Dense)               (None, 256)          131328      ['dense_11[0][0]']               \n",
      "                                                                                                  \n",
      " dense_7 (Dense)                (None, 256)          8448        ['dense_6[0][0]']                \n",
      "                                                                                                  \n",
      " dense_13 (Dense)               (None, 128)          32896       ['dense_12[0][0]']               \n",
      "                                                                                                  \n",
      " dense_8 (Dense)                (None, 128)          32896       ['dense_7[0][0]']                \n",
      "                                                                                                  \n",
      " concatenate (Concatenate)      (None, 256)          0           ['dense_13[0][0]',               \n",
      "                                                                  'dense_8[0][0]']                \n",
      "                                                                                                  \n",
      " dense_14 (Dense)               (None, 12)           3084        ['concatenate[0][0]']            \n",
      "                                                                                                  \n",
      "==================================================================================================\n",
      "Total params: 195,519,776\n",
      "Trainable params: 521,164\n",
      "Non-trainable params: 194,998,612\n",
      "__________________________________________________________________________________________________\n"
     ]
    }
   ],
   "source": [
    "load_model.summary()"
   ],
   "metadata": {
    "collapsed": false,
    "ExecuteTime": {
     "end_time": "2023-09-23T14:22:01.959296Z",
     "start_time": "2023-09-23T14:22:01.811861Z"
    }
   },
   "id": "24890a908870cff2"
  },
  {
   "cell_type": "markdown",
   "source": [],
   "metadata": {
    "collapsed": false
   },
   "id": "dbd903a1a411a729"
  },
  {
   "cell_type": "code",
   "execution_count": 4,
   "outputs": [
    {
     "name": "stderr",
     "output_type": "stream",
     "text": [
      "WARNING:absl:Found untraced functions such as _jit_compiled_convolution_op, _jit_compiled_convolution_op, _jit_compiled_convolution_op, _jit_compiled_convolution_op, restored_function_body while saving (showing 5 of 208). These functions will not be directly callable after loading.\n"
     ]
    },
    {
     "name": "stdout",
     "output_type": "stream",
     "text": [
      "INFO:tensorflow:Assets written to: /var/folders/fb/7_drpzsd24l0ljybt7xcd2_00000gn/T/tmpcju8t62u/assets\n"
     ]
    },
    {
     "name": "stderr",
     "output_type": "stream",
     "text": [
      "INFO:tensorflow:Assets written to: /var/folders/fb/7_drpzsd24l0ljybt7xcd2_00000gn/T/tmpcju8t62u/assets\n",
      "2023-09-23 23:23:48.289638: W tensorflow/compiler/mlir/lite/python/tf_tfl_flatbuffer_helpers.cc:364] Ignored output_format.\n",
      "2023-09-23 23:23:48.289867: W tensorflow/compiler/mlir/lite/python/tf_tfl_flatbuffer_helpers.cc:367] Ignored drop_control_dependency.\n",
      "2023-09-23 23:23:48.292638: I tensorflow/cc/saved_model/reader.cc:45] Reading SavedModel from: /var/folders/fb/7_drpzsd24l0ljybt7xcd2_00000gn/T/tmpcju8t62u\n",
      "2023-09-23 23:23:48.526374: I tensorflow/cc/saved_model/reader.cc:89] Reading meta graph with tags { serve }\n",
      "2023-09-23 23:23:48.526402: I tensorflow/cc/saved_model/reader.cc:130] Reading SavedModel debug info (if present) from: /var/folders/fb/7_drpzsd24l0ljybt7xcd2_00000gn/T/tmpcju8t62u\n",
      "2023-09-23 23:23:49.348911: I tensorflow/compiler/mlir/mlir_graph_optimization_pass.cc:353] MLIR V1 optimization pass is not enabled\n",
      "2023-09-23 23:23:49.473797: I tensorflow/cc/saved_model/loader.cc:231] Restoring SavedModel bundle.\n",
      "2023-09-23 23:23:49.678260: W tensorflow/tsl/platform/profile_utils/cpu_utils.cc:128] Failed to get CPU frequency: 0 Hz\n",
      "2023-09-23 23:23:52.139704: I tensorflow/cc/saved_model/loader.cc:215] Running initialization op on SavedModel bundle at path: /var/folders/fb/7_drpzsd24l0ljybt7xcd2_00000gn/T/tmpcju8t62u\n",
      "2023-09-23 23:23:52.960448: I tensorflow/cc/saved_model/loader.cc:314] SavedModel load for tags { serve }; Status: success: OK. Took 4667816 microseconds.\n",
      "2023-09-23 23:23:55.027229: I tensorflow/compiler/mlir/tensorflow/utils/dump_mlir_util.cc:269] disabling MLIR crash reproducer, set env var `MLIR_CRASH_REPRODUCER_DIRECTORY` to enable.\n",
      "2023-09-23 23:24:00.472731: W tensorflow/compiler/mlir/lite/flatbuffer_export.cc:2051] TFLite interpreter needs to link Flex delegate in order to run the model since it contains the following Select TFop(s):\n",
      "Flex ops: FlexRoll\n",
      "Details:\n",
      "\ttf.Roll(tensor<?x14x14x768xf32>, tensor<2xi32>, tensor<2xi32>) -> (tensor<?x14x14x768xf32>) : {device = \"\"}\n",
      "\ttf.Roll(tensor<?x14x14x?xf32>, tensor<2xi32>, tensor<2xi32>) -> (tensor<?x14x14x?xf32>) : {device = \"\"}\n",
      "\ttf.Roll(tensor<?x28x28x384xf32>, tensor<2xi32>, tensor<2xi32>) -> (tensor<?x28x28x384xf32>) : {device = \"\"}\n",
      "\ttf.Roll(tensor<?x28x28x?xf32>, tensor<2xi32>, tensor<2xi32>) -> (tensor<?x28x28x?xf32>) : {device = \"\"}\n",
      "\ttf.Roll(tensor<?x56x56x192xf32>, tensor<2xi32>, tensor<2xi32>) -> (tensor<?x56x56x192xf32>) : {device = \"\"}\n",
      "\ttf.Roll(tensor<?x56x56x?xf32>, tensor<2xi32>, tensor<2xi32>) -> (tensor<?x56x56x?xf32>) : {device = \"\"}\n",
      "See instructions: https://www.tensorflow.org/lite/guide/ops_select\n"
     ]
    }
   ],
   "source": [
    "converter = tf.lite.TFLiteConverter.from_keras_model(load_model)\n",
    "converter.target_spec.supported_ops = [tf.lite.OpsSet.TFLITE_BUILTINS, tf.lite.OpsSet.SELECT_TF_OPS]\n",
    "tflite_model = converter.convert()"
   ],
   "metadata": {
    "collapsed": false,
    "ExecuteTime": {
     "end_time": "2023-09-23T14:24:07.959069Z",
     "start_time": "2023-09-23T14:22:42.023953Z"
    }
   },
   "id": "765a0826141b635"
  },
  {
   "cell_type": "code",
   "execution_count": 5,
   "outputs": [],
   "source": [
    "# 변환된 모델을 파일로 저장합니다.\n",
    "with open('model.tflite', 'wb') as f:\n",
    "    f.write(tflite_model)"
   ],
   "metadata": {
    "collapsed": false,
    "ExecuteTime": {
     "end_time": "2023-09-23T14:25:58.900855Z",
     "start_time": "2023-09-23T14:25:58.526306Z"
    }
   },
   "id": "a8d7aa20bfb9394f"
  },
  {
   "cell_type": "code",
   "execution_count": null,
   "outputs": [],
   "source": [],
   "metadata": {
    "collapsed": false
   },
   "id": "fbe459f15e183ba1"
  }
 ],
 "metadata": {
  "kernelspec": {
   "display_name": "Python 3",
   "language": "python",
   "name": "python3"
  },
  "language_info": {
   "codemirror_mode": {
    "name": "ipython",
    "version": 2
   },
   "file_extension": ".py",
   "mimetype": "text/x-python",
   "name": "python",
   "nbconvert_exporter": "python",
   "pygments_lexer": "ipython2",
   "version": "2.7.6"
  }
 },
 "nbformat": 4,
 "nbformat_minor": 5
}
